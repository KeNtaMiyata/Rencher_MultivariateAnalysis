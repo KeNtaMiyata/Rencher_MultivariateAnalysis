{
 "cells": [
  {
   "cell_type": "code",
   "execution_count": 1,
   "id": "52eef584-4c39-4abc-9114-ecae42594bda",
   "metadata": {
    "tags": []
   },
   "outputs": [],
   "source": [
    "import numpy as np\n",
    "import os\n",
    "import pandas as pd\n",
    "import scipy as sp\n",
    "from scipy import stats\n",
    "import statsmodels.api as sm\n",
    "import matplotlib.pyplot as plt\n",
    "\n",
    "from sas7bdat import SAS7BDAT"
   ]
  },
  {
   "cell_type": "code",
   "execution_count": 11,
   "id": "0f3a4317-634c-4719-a860-7ef406c82e12",
   "metadata": {
    "tags": []
   },
   "outputs": [],
   "source": [
    "from statsmodels.multivariate.manova import MANOVA"
   ]
  },
  {
   "cell_type": "code",
   "execution_count": 2,
   "id": "bcabd55a-0b34-4b72-b96b-2dff2d0142bb",
   "metadata": {
    "tags": []
   },
   "outputs": [],
   "source": [
    "data_dir ='C:\\\\Users\\\\Kenta\\\\ProgramScripts\\\\Rencher_MethodsOfMultivariateAnalysis\\\\data\\\\multivariate_analysis - 3rd Ed\\\\'"
   ]
  },
  {
   "cell_type": "code",
   "execution_count": 5,
   "id": "b77711fb-d883-4982-b007-3ea3ef17bed3",
   "metadata": {
    "tags": []
   },
   "outputs": [],
   "source": [
    "# os.listdir(data_dir)"
   ]
  },
  {
   "cell_type": "code",
   "execution_count": 4,
   "id": "7dad5ec9-6cfd-4d8d-9384-fc8c51cb7739",
   "metadata": {
    "tags": []
   },
   "outputs": [],
   "source": [
    "df = pd.read_csv(data_dir + 'T6_2_ROOT.DAT', sep='\\s+', header=None)"
   ]
  },
  {
   "cell_type": "code",
   "execution_count": 9,
   "id": "7b0c1e01-936d-4d2f-8eeb-dbae77d2d130",
   "metadata": {
    "tags": []
   },
   "outputs": [],
   "source": [
    "columns=['Group', 'X1', 'X2', 'X3', 'X4']\n",
    "df.columns = columns"
   ]
  },
  {
   "cell_type": "code",
   "execution_count": 12,
   "id": "8ec33520-5014-4ac8-b252-c81f40b636f1",
   "metadata": {
    "tags": []
   },
   "outputs": [
    {
     "name": "stdout",
     "output_type": "stream",
     "text": [
      "                  Multivariate linear model\n",
      "==============================================================\n",
      "                                                              \n",
      "--------------------------------------------------------------\n",
      "       Intercept         Value  Num DF  Den DF F Value  Pr > F\n",
      "--------------------------------------------------------------\n",
      "          Wilks' lambda  0.0112 4.0000 43.0000 950.7953 0.0000\n",
      "         Pillai's trace  0.9888 4.0000 43.0000 950.7953 0.0000\n",
      " Hotelling-Lawley trace 88.4461 4.0000 43.0000 950.7953 0.0000\n",
      "    Roy's greatest root 88.4461 4.0000 43.0000 950.7953 0.0000\n",
      "--------------------------------------------------------------\n",
      "                                                              \n",
      "--------------------------------------------------------------\n",
      "           Group          Value  Num DF  Den DF F Value Pr > F\n",
      "--------------------------------------------------------------\n",
      "            Wilks' lambda 0.7642 4.0000 43.0000  3.3162 0.0187\n",
      "           Pillai's trace 0.2358 4.0000 43.0000  3.3162 0.0187\n",
      "   Hotelling-Lawley trace 0.3085 4.0000 43.0000  3.3162 0.0187\n",
      "      Roy's greatest root 0.3085 4.0000 43.0000  3.3162 0.0187\n",
      "==============================================================\n",
      "\n"
     ]
    }
   ],
   "source": [
    "maov = MANOVA.from_formula('X1 + X2 + X3 + X4 ~ Group', data=df)\n",
    "\n",
    "print(maov.mv_test())"
   ]
  },
  {
   "cell_type": "code",
   "execution_count": null,
   "id": "54ef45a9-f9d1-45c1-927e-8bfca6df95a3",
   "metadata": {},
   "outputs": [],
   "source": []
  }
 ],
 "metadata": {
  "kernelspec": {
   "display_name": "Python 3 (ipykernel)",
   "language": "python",
   "name": "python3"
  },
  "language_info": {
   "codemirror_mode": {
    "name": "ipython",
    "version": 3
   },
   "file_extension": ".py",
   "mimetype": "text/x-python",
   "name": "python",
   "nbconvert_exporter": "python",
   "pygments_lexer": "ipython3",
   "version": "3.10.11"
  }
 },
 "nbformat": 4,
 "nbformat_minor": 5
}
