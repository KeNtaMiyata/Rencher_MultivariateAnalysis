{
 "cells": [
  {
   "cell_type": "markdown",
   "id": "3de23f68-a665-49a2-8ffe-9afd091c6181",
   "metadata": {},
   "source": [
    "# ch5 Tests on one or two mean vectors"
   ]
  },
  {
   "cell_type": "markdown",
   "id": "cdc819f7-da61-4b45-a72b-c5a5b0094d0d",
   "metadata": {},
   "source": [
    "## 5.8 Test for additional information"
   ]
  },
  {
   "cell_type": "markdown",
   "id": "238e4890-e576-4fd4-b5f1-1008f42aaa8b",
   "metadata": {},
   "source": [
    "### Example 5.8"
   ]
  },
  {
   "cell_type": "code",
   "execution_count": 16,
   "id": "65b66e9b-c9ec-4043-a87c-65460f13c241",
   "metadata": {},
   "outputs": [],
   "source": [
    "import numpy as np\n",
    "import os\n",
    "import pandas as pd\n",
    "import scipy as sp\n",
    "from scipy import stats\n",
    "import statsmodels.api as sm\n",
    "import matplotlib.pyplot as plt\n",
    "\n",
    "from sas7bdat import SAS7BDAT"
   ]
  },
  {
   "cell_type": "code",
   "execution_count": 2,
   "id": "ded10b41-f694-4ec2-b01f-f5a52b44a4d2",
   "metadata": {
    "tags": []
   },
   "outputs": [],
   "source": [
    "data_dir ='C:\\\\Users\\\\Kenta\\\\ProgramScripts\\\\Rencher_MethodsOfMultivariateAnalysis\\\\data\\\\multivariate_analysis - 3rd Ed\\\\'"
   ]
  },
  {
   "cell_type": "code",
   "execution_count": 3,
   "id": "d95bba0d-d978-4867-9ccc-1a3e9fd37834",
   "metadata": {
    "tags": []
   },
   "outputs": [],
   "source": [
    "# os.getcwd()"
   ]
  },
  {
   "cell_type": "code",
   "execution_count": 4,
   "id": "7da7a6c9-676a-4304-84d0-55ff58d3265e",
   "metadata": {
    "tags": []
   },
   "outputs": [],
   "source": [
    "# os.listdir(data_dir)"
   ]
  },
  {
   "cell_type": "code",
   "execution_count": 5,
   "id": "b778f993-4132-46b2-9529-1617f812ac86",
   "metadata": {
    "tags": []
   },
   "outputs": [],
   "source": [
    "# data_dir + 'T5_1_PSYCH.DAT'"
   ]
  },
  {
   "cell_type": "code",
   "execution_count": 6,
   "id": "468bcc16-213f-4be9-ae11-3f9182f81c82",
   "metadata": {},
   "outputs": [],
   "source": [
    "df = pd.read_csv(data_dir + 'T5_1_PSYCH.DAT', sep='\\s+', header=None)"
   ]
  },
  {
   "cell_type": "code",
   "execution_count": 7,
   "id": "21b8032f-604c-4f3d-a3af-f1a230963ea8",
   "metadata": {
    "tags": []
   },
   "outputs": [
    {
     "data": {
      "text/html": [
       "<div>\n",
       "<style scoped>\n",
       "    .dataframe tbody tr th:only-of-type {\n",
       "        vertical-align: middle;\n",
       "    }\n",
       "\n",
       "    .dataframe tbody tr th {\n",
       "        vertical-align: top;\n",
       "    }\n",
       "\n",
       "    .dataframe thead th {\n",
       "        text-align: right;\n",
       "    }\n",
       "</style>\n",
       "<table border=\"1\" class=\"dataframe\">\n",
       "  <thead>\n",
       "    <tr style=\"text-align: right;\">\n",
       "      <th></th>\n",
       "      <th>0</th>\n",
       "      <th>1</th>\n",
       "      <th>2</th>\n",
       "      <th>3</th>\n",
       "      <th>4</th>\n",
       "    </tr>\n",
       "  </thead>\n",
       "  <tbody>\n",
       "    <tr>\n",
       "      <th>0</th>\n",
       "      <td>1</td>\n",
       "      <td>15</td>\n",
       "      <td>17</td>\n",
       "      <td>24</td>\n",
       "      <td>14</td>\n",
       "    </tr>\n",
       "    <tr>\n",
       "      <th>1</th>\n",
       "      <td>1</td>\n",
       "      <td>17</td>\n",
       "      <td>15</td>\n",
       "      <td>32</td>\n",
       "      <td>26</td>\n",
       "    </tr>\n",
       "    <tr>\n",
       "      <th>2</th>\n",
       "      <td>1</td>\n",
       "      <td>15</td>\n",
       "      <td>14</td>\n",
       "      <td>29</td>\n",
       "      <td>23</td>\n",
       "    </tr>\n",
       "    <tr>\n",
       "      <th>3</th>\n",
       "      <td>1</td>\n",
       "      <td>13</td>\n",
       "      <td>12</td>\n",
       "      <td>10</td>\n",
       "      <td>16</td>\n",
       "    </tr>\n",
       "    <tr>\n",
       "      <th>4</th>\n",
       "      <td>1</td>\n",
       "      <td>20</td>\n",
       "      <td>17</td>\n",
       "      <td>26</td>\n",
       "      <td>28</td>\n",
       "    </tr>\n",
       "  </tbody>\n",
       "</table>\n",
       "</div>"
      ],
      "text/plain": [
       "   0   1   2   3   4\n",
       "0  1  15  17  24  14\n",
       "1  1  17  15  32  26\n",
       "2  1  15  14  29  23\n",
       "3  1  13  12  10  16\n",
       "4  1  20  17  26  28"
      ]
     },
     "execution_count": 7,
     "metadata": {},
     "output_type": "execute_result"
    }
   ],
   "source": [
    "df.head()"
   ]
  },
  {
   "cell_type": "code",
   "execution_count": 9,
   "id": "15c4b1d0-2bec-45c7-a391-637f4f83ca03",
   "metadata": {
    "tags": []
   },
   "outputs": [],
   "source": [
    "grouped = df.groupby(0)\n",
    "df1 = grouped.get_group(1)\n",
    "df2 = grouped.get_group(2)\n",
    "\n",
    "df1 = df1.drop(0, axis=1)\n",
    "df2 = df2.drop(0, axis=1)"
   ]
  },
  {
   "cell_type": "code",
   "execution_count": 10,
   "id": "e80cb2fb-1b29-4502-8e97-db8611e208e9",
   "metadata": {
    "tags": []
   },
   "outputs": [],
   "source": [
    "y1 = df1.values\n",
    "y2 = df2.values"
   ]
  },
  {
   "cell_type": "code",
   "execution_count": 33,
   "id": "3c4d55e3-6c8b-42bd-9412-b7576d526bcc",
   "metadata": {
    "tags": []
   },
   "outputs": [],
   "source": [
    "n1 = len(y1)\n",
    "n2 = len(y2)"
   ]
  },
  {
   "cell_type": "code",
   "execution_count": 12,
   "id": "afc28da1-aee1-4184-8b4f-2134cfbe21d3",
   "metadata": {
    "tags": []
   },
   "outputs": [],
   "source": [
    "y1a, y1b = np.split(y1, 2, axis=1) \n",
    "y2a, y2b = np.split(y2, 2, axis=1) "
   ]
  },
  {
   "cell_type": "code",
   "execution_count": 56,
   "id": "c7f9d66a-7c1b-4adf-a6df-f3691435790f",
   "metadata": {
    "tags": []
   },
   "outputs": [],
   "source": [
    "# mean\n",
    "y1_mean = np.mean(y1, axis=0)[np.newaxis]\n",
    "y2_mean = np.mean(y2, axis=0)[np.newaxis]\n",
    "\n",
    "y1a_mean = np.mean(y1a, axis=0)[np.newaxis]\n",
    "y2a_mean = np.mean(y2a, axis=0)[np.newaxis]\n",
    "\n",
    "y1b_mean = np.mean(y1b, axis=0)[np.newaxis]\n",
    "y2b_mean = np.mean(y2b, axis=0)[np.newaxis]"
   ]
  },
  {
   "cell_type": "code",
   "execution_count": 39,
   "id": "c97e1545-7aeb-4ed9-a0fb-c4313af4bc95",
   "metadata": {
    "tags": []
   },
   "outputs": [
    {
     "data": {
      "text/plain": [
       "520202"
      ]
     },
     "execution_count": 39,
     "metadata": {},
     "output_type": "execute_result"
    }
   ],
   "source": [
    "np.sum(np.dot(y1a, y1a.T)"
   ]
  },
  {
   "cell_type": "code",
   "execution_count": 119,
   "id": "00425998-7711-4284-b05b-f0a1cbd658f8",
   "metadata": {
    "tags": []
   },
   "outputs": [
    {
     "data": {
      "text/plain": [
       "array([[0.1395807 , 0.16536089],\n",
       "       [0.16536089, 0.06291622]])"
      ]
     },
     "execution_count": 119,
     "metadata": {},
     "output_type": "execute_result"
    }
   ],
   "source": [
    "Syy**-1"
   ]
  },
  {
   "cell_type": "code",
   "execution_count": 108,
   "id": "90ab1c21-ccf3-41b7-8944-7afbb1e6ae49",
   "metadata": {
    "tags": []
   },
   "outputs": [],
   "source": [
    "S1 = np.dot((y1 - y1_mean).T, (y1- y1_mean)) / (n1-1)\n",
    "S2 = np.dot((y2 - y2_mean).T, (y2- y2_mean)) / (n2-1)\n",
    "Spl = ((n1-1)*S1 + (n2-1)*S2) / (n1 + n2 - 2) \n",
    "\n",
    "upper, lower = np.split(Spl, 2, axis=0)\n",
    "Syy, Syx = np.split(upper, 2, axis=1)\n",
    "Sxy, Sxx = np.split(lower, 2, axis=1)"
   ]
  },
  {
   "cell_type": "code",
   "execution_count": 123,
   "id": "ce4ea406-85f8-4fb3-a0f7-f3da5fa00ae1",
   "metadata": {},
   "outputs": [],
   "source": [
    "Syy_inv = np.linalg.inv(Syy)\n",
    "tmp = np.dot((y1a_mean - y2a_mean), Syy_inv)\n",
    "tmp = np.dot(tmp, (y1a_mean - y2a_mean).T)\n",
    "T2p = n1*n2 / (n1+n2) * tmp"
   ]
  },
  {
   "cell_type": "code",
   "execution_count": 126,
   "id": "8554a391-141f-4c8c-bf24-68b527804bbc",
   "metadata": {
    "tags": []
   },
   "outputs": [
    {
     "data": {
      "text/plain": [
       "array([[31.01257963]])"
      ]
     },
     "execution_count": 126,
     "metadata": {},
     "output_type": "execute_result"
    }
   ],
   "source": [
    "T2p"
   ]
  },
  {
   "cell_type": "code",
   "execution_count": 126,
   "id": "167ffa01",
   "metadata": {
    "tags": []
   },
   "outputs": [
    {
     "data": {
      "text/plain": [
       "array([[31.01257963]])"
      ]
     },
     "execution_count": 126,
     "metadata": {},
     "output_type": "execute_result"
    }
   ],
   "source": [
    "T2p"
   ]
  },
  {
   "cell_type": "code",
   "execution_count": 128,
   "id": "64cc7e1c-0ec7-4986-9d6e-b2cdd5949111",
   "metadata": {
    "tags": []
   },
   "outputs": [],
   "source": [
    "Spl_inv = np.linalg.inv(Spl)\n",
    "tmp = np.dot((y1_mean - y2_mean), Spl_inv)\n",
    "tmp = np.dot(tmp, (y1_mean - y2_mean).T)\n",
    "T2pq = n1*n2 / (n1+n2) * tmp"
   ]
  },
  {
   "cell_type": "code",
   "execution_count": 129,
   "id": "ff1222be-3229-4d0a-b9b5-f94eabd12adf",
   "metadata": {
    "tags": []
   },
   "outputs": [
    {
     "data": {
      "text/plain": [
       "array([[97.60149653]])"
      ]
     },
     "execution_count": 129,
     "metadata": {},
     "output_type": "execute_result"
    }
   ],
   "source": [
    "T2pq"
   ]
  },
  {
   "cell_type": "code",
   "execution_count": 131,
   "id": "c3372525-2352-4088-a03e-1c7ea798f21e",
   "metadata": {
    "tags": []
   },
   "outputs": [],
   "source": [
    "nu = 62 \n",
    "p = 2\n",
    "\n",
    "T = (nu - p) * (T2pq - T2p) / (nu+T2p)"
   ]
  },
  {
   "cell_type": "code",
   "execution_count": 132,
   "id": "5fb8bef8-b35b-4a37-83f6-b404f69a01c7",
   "metadata": {
    "tags": []
   },
   "outputs": [
    {
     "data": {
      "text/plain": [
       "array([[42.95478128]])"
      ]
     },
     "execution_count": 132,
     "metadata": {},
     "output_type": "execute_result"
    }
   ],
   "source": [
    "T"
   ]
  },
  {
   "cell_type": "markdown",
   "id": "9471cb41-82e5-434a-b53c-cc1d1d896c19",
   "metadata": {},
   "source": [
    "### それぞれ一つずつ除外"
   ]
  },
  {
   "cell_type": "code",
   "execution_count": null,
   "id": "dee78ae5-3581-4ff6-96fe-f3acc50d4dc4",
   "metadata": {},
   "outputs": [],
   "source": []
  },
  {
   "cell_type": "code",
   "execution_count": null,
   "id": "eb4f5893-3fcc-4330-81e1-d25a44898c8f",
   "metadata": {},
   "outputs": [],
   "source": []
  },
  {
   "cell_type": "markdown",
   "id": "6cc10cab-48b8-489d-be5e-21056222cc41",
   "metadata": {},
   "source": [
    "---"
   ]
  },
  {
   "cell_type": "markdown",
   "id": "5a55e465-7d12-494f-b2ed-5bddc859f7f0",
   "metadata": {},
   "source": [
    "## 5.9 profile analysis"
   ]
  },
  {
   "cell_type": "markdown",
   "id": "67bafe3e-7f24-4e84-beb3-26b28116773c",
   "metadata": {},
   "source": [
    "### intro"
   ]
  },
  {
   "cell_type": "code",
   "execution_count": 14,
   "id": "0b7a5cef-d2e7-4ece-932a-897fadfebd3a",
   "metadata": {
    "tags": []
   },
   "outputs": [],
   "source": [
    "np.random.seed(123)\n",
    "x = np.arange(1,5)\n",
    "y = 50 + stats.norm.rvs(size=4)"
   ]
  },
  {
   "cell_type": "code",
   "execution_count": 23,
   "id": "147435c8-3c0c-4a36-b71f-0747e190d4cc",
   "metadata": {
    "tags": []
   },
   "outputs": [
    {
     "data": {
      "image/png": "[encoded data removed]",
      "text/plain": [
       "<Figure size 640x480 with 1 Axes>"
      ]
     },
     "metadata": {},
     "output_type": "display_data"
    }
   ],
   "source": [
    "plt.plot(x,y)\n",
    "plt.xticks(x)\n",
    "plt.xlabel(\"ID\")\n",
    "plt.ylabel(\"Value\")\n",
    "plt.savefig(\".\\\\images\\\\509_1_profile.png\")\n",
    "plt.show()"
   ]
  },
  {
   "cell_type": "code",
   "execution_count": 38,
   "id": "18d8e58a-108a-4793-a581-73fec8318dbd",
   "metadata": {
    "tags": []
   },
   "outputs": [],
   "source": [
    "x = np.arange(1,5)\n",
    "y1 = np.array([50, 55, 48, 65])\n",
    "y2 = y1-10\n",
    "y3 = np.array([50, 55, 48, 65])\n",
    "y3[3] = y3[3] + 5\n",
    "y4 = y3 - 10\n",
    "y4[3] = y4[3] - 15 "
   ]
  },
  {
   "cell_type": "code",
   "execution_count": 43,
   "id": "8d53ebad-1d2e-4d25-9437-bb43e3222d2b",
   "metadata": {
    "tags": []
   },
   "outputs": [
    {
     "data": {
      "image/png": "[encoded data removed]",
      "text/plain": [
       "<Figure size 640x480 with 1 Axes>"
      ]
     },
     "metadata": {},
     "output_type": "display_data"
    }
   ],
   "source": [
    "plt.plot(x,y1)\n",
    "plt.plot(x,y2)\n",
    "plt.xticks(x)\n",
    "plt.ylim(35, 75)\n",
    "plt.xlabel(\"ID\")\n",
    "plt.ylabel(\"Value\")\n",
    "plt.savefig(\".\\\\images\\\\509_2_profile2.png\")\n",
    "plt.show()"
   ]
  },
  {
   "cell_type": "code",
   "execution_count": 40,
   "id": "42506589-c236-4b77-ba53-46c2928c96a6",
   "metadata": {
    "tags": []
   },
   "outputs": [
    {
     "data": {
      "image/png": "[encoded data removed]",
      "text/plain": [
       "<Figure size 640x480 with 1 Axes>"
      ]
     },
     "metadata": {},
     "output_type": "display_data"
    }
   ],
   "source": [
    "plt.plot(x,y3)\n",
    "plt.plot(x,y4)\n",
    "plt.xticks(x)\n",
    "plt.ylim(35, 75)\n",
    "plt.xlabel(\"ID\")\n",
    "plt.ylabel(\"Value\")\n",
    "plt.savefig(\".\\\\images\\\\509_3_profile3.png\")\n",
    "plt.show()"
   ]
  },
  {
   "cell_type": "code",
   "execution_count": 41,
   "id": "f26029b1-ce54-4551-8acc-5719631d32af",
   "metadata": {
    "tags": []
   },
   "outputs": [],
   "source": [
    "x = np.arange(1,5)\n",
    "y1 = np.array([50, 55, 48, 65])\n",
    "y2 = y1-0.5"
   ]
  },
  {
   "cell_type": "code",
   "execution_count": 44,
   "id": "d6ec71bf-ccf1-4874-9232-f69615963bd5",
   "metadata": {
    "tags": []
   },
   "outputs": [
    {
     "data": {
      "image/png": "[encoded data removed]",
      "text/plain": [
       "<Figure size 640x480 with 1 Axes>"
      ]
     },
     "metadata": {},
     "output_type": "display_data"
    }
   ],
   "source": [
    "plt.plot(x,y1)\n",
    "plt.plot(x,y2)\n",
    "plt.xticks(x)\n",
    "plt.ylim(35, 75)\n",
    "plt.xlabel(\"ID\")\n",
    "plt.ylabel(\"Value\")\n",
    "plt.savefig(\".\\\\images\\\\509_4_profile4.png\")\n",
    "plt.show()"
   ]
  },
  {
   "cell_type": "code",
   "execution_count": 58,
   "id": "baa6b9e5-8e04-4bcc-824b-8f06811a0d9a",
   "metadata": {
    "tags": []
   },
   "outputs": [],
   "source": [
    "np.random.seed(1)\n",
    "x = np.arange(1,5)\n",
    "y1 = 50 + stats.norm.rvs(size=4)*3\n",
    "y2 = 50 + stats.norm.rvs(size=4)*3"
   ]
  },
  {
   "cell_type": "code",
   "execution_count": 59,
   "id": "32556e2f-14ea-4117-b61f-c3e94f2fbdbc",
   "metadata": {
    "tags": []
   },
   "outputs": [
    {
     "data": {
      "image/png": "[encoded data removed]",
      "text/plain": [
       "<Figure size 640x480 with 1 Axes>"
      ]
     },
     "metadata": {},
     "output_type": "display_data"
    }
   ],
   "source": [
    "plt.plot(x,y1)\n",
    "plt.plot(x,y2)\n",
    "plt.xticks(x)\n",
    "plt.ylim(35, 75)\n",
    "plt.xlabel(\"ID\")\n",
    "plt.ylabel(\"Value\")\n",
    "plt.savefig(\".\\\\images\\\\509_5_profile5.png\")\n",
    "plt.show()"
   ]
  },
  {
   "cell_type": "code",
   "execution_count": null,
   "id": "84cd155b-5ead-46b4-ada7-917b58011a9d",
   "metadata": {},
   "outputs": [],
   "source": []
  },
  {
   "cell_type": "markdown",
   "id": "8b40f0d0-19f3-4e5f-9647-295bdb8cad3a",
   "metadata": {
    "tags": []
   },
   "source": [
    "### Example 5.9.2"
   ]
  },
  {
   "cell_type": "code",
   "execution_count": 100,
   "id": "518c4438-6e46-4317-a16d-a6b510fceedf",
   "metadata": {
    "tags": []
   },
   "outputs": [],
   "source": [
    "df = pd.read_csv(data_dir + 'T5_1_PSYCH.DAT', sep='\\s+', header=None)\n",
    "\n",
    "grouped = df.groupby(0)\n",
    "df1 = grouped.get_group(1)\n",
    "df2 = grouped.get_group(2)\n",
    "\n",
    "df1 = df1.drop(0, axis=1)\n",
    "df2 = df2.drop(0, axis=1)\n",
    "\n",
    "y1 = df1.values\n",
    "y2 = df2.values\n",
    "\n",
    "n1 = len(y1)\n",
    "n2 = len(y2)\n",
    "\n",
    "p=4"
   ]
  },
  {
   "cell_type": "code",
   "execution_count": 81,
   "id": "d15e3962-114d-4cf9-9cb2-9ae4cef1d584",
   "metadata": {
    "tags": []
   },
   "outputs": [],
   "source": [
    "C = np.array([[-1,1,0,0],\n",
    "             [0,-1,1,0],\n",
    "             [0,0,-1,1]])"
   ]
  },
  {
   "cell_type": "code",
   "execution_count": 82,
   "id": "76102323-af06-44c7-aefd-200fe792588c",
   "metadata": {
    "tags": []
   },
   "outputs": [],
   "source": [
    "# mean\n",
    "y1_mean = np.mean(y1, axis=0)[np.newaxis]\n",
    "y2_mean = np.mean(y2, axis=0)[np.newaxis]\n"
   ]
  },
  {
   "cell_type": "code",
   "execution_count": 83,
   "id": "d0241430-d6d9-4985-bad5-bf4c0bf22469",
   "metadata": {
    "tags": []
   },
   "outputs": [],
   "source": [
    "S1 = np.dot((y1 - y1_mean).T, (y1- y1_mean)) / (n1-1)\n",
    "S2 = np.dot((y2 - y2_mean).T, (y2- y2_mean)) / (n2-1)\n",
    "Spl = ((n1-1)*S1 + (n2-1)*S2) / (n1 + n2 - 2) "
   ]
  },
  {
   "cell_type": "code",
   "execution_count": 93,
   "id": "3d7149ff-d408-46a9-a21e-292ce51e566a",
   "metadata": {
    "tags": []
   },
   "outputs": [
    {
     "data": {
      "text/plain": [
       "array([[-1.625  ],\n",
       "       [ 8.53125],\n",
       "       [-9.71875]])"
      ]
     },
     "execution_count": 93,
     "metadata": {},
     "output_type": "execute_result"
    }
   ],
   "source": [
    "Cy1_y2 = np.dot(C, (y1_mean-y2_mean).T)\n",
    "Cy1_y2"
   ]
  },
  {
   "cell_type": "code",
   "execution_count": 94,
   "id": "335b59a8-697a-4956-85da-bbe82b4f2ce9",
   "metadata": {
    "tags": []
   },
   "outputs": [
    {
     "data": {
      "text/plain": [
       "array([[ 10.96370968,  -7.04737903,  -1.64415323],\n",
       "       [ -7.04737903,  28.265625  , -12.73891129],\n",
       "       [ -1.64415323, -12.73891129,  23.71522177]])"
      ]
     },
     "execution_count": 94,
     "metadata": {},
     "output_type": "execute_result"
    }
   ],
   "source": [
    "tmp = np.dot(C, Spl)\n",
    "CSplC = np.dot(tmp, C.T)\n",
    "CSplC"
   ]
  },
  {
   "cell_type": "markdown",
   "id": "a6ff4d0b-0aea-4b72-b625-a109dbe337f4",
   "metadata": {},
   "source": [
    "### H01"
   ]
  },
  {
   "cell_type": "code",
   "execution_count": 95,
   "id": "12779042-7e7a-48e5-981b-bf5e13af6db0",
   "metadata": {
    "tags": []
   },
   "outputs": [],
   "source": [
    "CSplC_inv = np.linalg.inv(CSplC)\n",
    "tmp = np.dot((y1_mean-y2_mean), C.T)\n",
    "tmp = np.dot(tmp, CSplC_inv)\n",
    "tmp = np.dot(tmp, C)\n",
    "tmp = np.dot(tmp, (y1_mean-y2_mean).T) \n",
    "\n",
    "T2 = n1*n2/(n1+n2) * tmp"
   ]
  },
  {
   "cell_type": "code",
   "execution_count": 96,
   "id": "29f4263e-ee10-46dc-86f8-87d8ac2150fb",
   "metadata": {
    "tags": []
   },
   "outputs": [
    {
     "data": {
      "text/plain": [
       "array([[74.24036995]])"
      ]
     },
     "execution_count": 96,
     "metadata": {},
     "output_type": "execute_result"
    }
   ],
   "source": [
    "T2"
   ]
  },
  {
   "cell_type": "code",
   "execution_count": 97,
   "id": "dde1c1ff-59c9-4674-aaa3-9001be62fedb",
   "metadata": {
    "tags": []
   },
   "outputs": [
    {
     "data": {
      "text/plain": [
       "array([[-0.13560855],\n",
       "       [ 0.10434028],\n",
       "       [-0.36316463]])"
      ]
     },
     "execution_count": 97,
     "metadata": {},
     "output_type": "execute_result"
    }
   ],
   "source": [
    "a = np.dot(CSplC_inv, Cy1_y2)\n",
    "a"
   ]
  },
  {
   "cell_type": "markdown",
   "id": "f47c5f88-c877-498a-97a1-af44a989feb2",
   "metadata": {},
   "source": [
    "### H02"
   ]
  },
  {
   "cell_type": "code",
   "execution_count": 119,
   "id": "6faafb67-fa8f-4924-8cd2-2f82bd331c82",
   "metadata": {
    "tags": []
   },
   "outputs": [],
   "source": [
    "j=np.ones(p)[np.newaxis]"
   ]
  },
  {
   "cell_type": "code",
   "execution_count": 135,
   "id": "2586ebea-3b85-4e8f-81b7-9d073cd8f01e",
   "metadata": {
    "tags": []
   },
   "outputs": [
    {
     "data": {
      "text/plain": [
       "array([[164.27570565]])"
      ]
     },
     "execution_count": 135,
     "metadata": {},
     "output_type": "execute_result"
    }
   ],
   "source": [
    "jy1_y2 = np.dot(j, (y1_mean-y2_mean).T)\n",
    "\n",
    "jSplj = np.dot(j, Spl)\n",
    "jSplj = np.dot(jSplj, j.T)"
   ]
  },
  {
   "cell_type": "code",
   "execution_count": 137,
   "id": "1af3c494-efef-4718-a139-7763799aaa53",
   "metadata": {
    "tags": []
   },
   "outputs": [
    {
     "data": {
      "text/plain": [
       "array([[5.29569753]])"
      ]
     },
     "execution_count": 137,
     "metadata": {},
     "output_type": "execute_result"
    }
   ],
   "source": [
    "t = jy1_y2 / np.sqrt(jSplj * (1/n1 + 1/n2))\n"
   ]
  },
  {
   "cell_type": "code",
   "execution_count": 144,
   "id": "266965d4-08dc-4f83-83bc-7b280726c6cf",
   "metadata": {
    "tags": []
   },
   "outputs": [
    {
     "data": {
      "text/plain": [
       "array([[5.29569753]])"
      ]
     },
     "execution_count": 144,
     "metadata": {},
     "output_type": "execute_result"
    }
   ],
   "source": [
    "t"
   ]
  },
  {
   "cell_type": "code",
   "execution_count": 139,
   "id": "819b7713-761c-4b27-a898-70bd25eef3b4",
   "metadata": {
    "tags": []
   },
   "outputs": [
    {
     "data": {
      "text/plain": [
       "array([[14.15625 , 14.90625 , 21.921875, 22.34375 ]])"
      ]
     },
     "execution_count": 139,
     "metadata": {},
     "output_type": "execute_result"
    }
   ],
   "source": [
    "y_bar = (n1*y1_mean + n2*y2_mean) / (n1+n2)\n",
    "y_bar"
   ]
  },
  {
   "cell_type": "code",
   "execution_count": 145,
   "id": "e5e42f3a-c750-4fb3-b8a5-8906ad40c3b5",
   "metadata": {
    "tags": []
   },
   "outputs": [],
   "source": [
    "C_y_bar = np.dot(C, y_bar.T)\n",
    "tmp = np.dot(C_y_bar.T, CSplC_inv)\n",
    "tmp = np.dot(tmp, C_y_bar)\n",
    "\n",
    "T2 = (n1+n2)*tmp"
   ]
  },
  {
   "cell_type": "code",
   "execution_count": 146,
   "id": "26637c72-488e-4f6b-99db-e277a2c3ba67",
   "metadata": {
    "tags": []
   },
   "outputs": [
    {
     "data": {
      "text/plain": [
       "array([[254.00376865]])"
      ]
     },
     "execution_count": 146,
     "metadata": {},
     "output_type": "execute_result"
    }
   ],
   "source": [
    "T2"
   ]
  },
  {
   "cell_type": "code",
   "execution_count": null,
   "id": "25ec3cbd-c0d6-43ed-a02c-7731c47986aa",
   "metadata": {},
   "outputs": [],
   "source": []
  }
 ],
 "metadata": {
  "kernelspec": {
   "display_name": "Python 3 (ipykernel)",
   "language": "python",
   "name": "python3"
  },
  "language_info": {
   "codemirror_mode": {
    "name": "ipython",
    "version": 3
   },
   "file_extension": ".py",
   "mimetype": "text/x-python",
   "name": "python",
   "nbconvert_exporter": "python",
   "pygments_lexer": "ipython3",
   "version": "3.10.11"
  }
 },
 "nbformat": 4,
 "nbformat_minor": 5
}
